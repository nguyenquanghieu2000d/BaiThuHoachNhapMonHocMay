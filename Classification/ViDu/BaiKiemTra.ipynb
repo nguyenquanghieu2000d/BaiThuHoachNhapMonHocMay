{
 "cells": [
  {
   "cell_type": "code",
   "execution_count": 2,
   "metadata": {
    "collapsed": true
   },
   "outputs": [],
   "source": [
    "import pandas as pd\n",
    "from sklearn import svm\n",
    "from sklearn.ensemble import AdaBoostClassifier\n",
    "from sklearn.preprocessing import LabelEncoder, StandardScaler\n",
    "from sklearn.model_selection import train_test_split  # chú ý\n",
    "import matplotlib.pyplot as plt\n",
    "from sklearn.linear_model import LogisticRegression  # hồi quy nhị phân\n",
    "from sklearn.metrics import accuracy_score  # đánh giá độ chính xác"
   ]
  },
  {
   "cell_type": "code",
   "execution_count": 3,
   "outputs": [],
   "source": [
    "# KT1a\n",
    "\n",
    "\n",
    "# đọc file csv\n",
    "\n",
    "df = pd.read_csv('Iris.csv')"
   ],
   "metadata": {
    "collapsed": false,
    "pycharm": {
     "name": "#%%\n"
    }
   }
  },
  {
   "cell_type": "code",
   "execution_count": 4,
   "outputs": [
    {
     "name": "stdout",
     "output_type": "stream",
     "text": [
      "      Id  SepalLengthCm  SepalWidthCm  PetalLengthCm  PetalWidthCm  \\\n",
      "0      1            5.1           3.5            1.4           0.2   \n",
      "1      2            4.9           3.0            1.4           0.2   \n",
      "2      3            4.7           3.2            1.3           0.2   \n",
      "3      4            4.6           3.1            1.5           0.2   \n",
      "4      5            5.0           3.6            1.4           0.2   \n",
      "..   ...            ...           ...            ...           ...   \n",
      "145  146            6.7           3.0            5.2           2.3   \n",
      "146  147            6.3           2.5            5.0           1.9   \n",
      "147  148            6.5           3.0            5.2           2.0   \n",
      "148  149            6.2           3.4            5.4           2.3   \n",
      "149  150            5.9           3.0            5.1           1.8   \n",
      "\n",
      "            Species  Species_num  \n",
      "0       Iris-setosa            0  \n",
      "1       Iris-setosa            0  \n",
      "2       Iris-setosa            0  \n",
      "3       Iris-setosa            0  \n",
      "4       Iris-setosa            0  \n",
      "..              ...          ...  \n",
      "145  Iris-virginica            2  \n",
      "146  Iris-virginica            2  \n",
      "147  Iris-virginica            2  \n",
      "148  Iris-virginica            2  \n",
      "149  Iris-virginica            2  \n",
      "\n",
      "[150 rows x 7 columns]\n"
     ]
    }
   ],
   "source": [
    "# encoder nhãn\n",
    "df[\"Species_num\"] = LabelEncoder().fit_transform(df[\"Species\"])\n",
    "print(df)"
   ],
   "metadata": {
    "collapsed": false,
    "pycharm": {
     "name": "#%%\n"
    }
   }
  },
  {
   "cell_type": "code",
   "execution_count": 5,
   "outputs": [
    {
     "name": "stdout",
     "output_type": "stream",
     "text": [
      "      Id  SepalLengthCm  SepalWidthCm  PetalLengthCm  PetalWidthCm  \\\n",
      "0      1            5.1           3.5            1.4           0.2   \n",
      "1      2            4.9           3.0            1.4           0.2   \n",
      "2      3            4.7           3.2            1.3           0.2   \n",
      "3      4            4.6           3.1            1.5           0.2   \n",
      "4      5            5.0           3.6            1.4           0.2   \n",
      "..   ...            ...           ...            ...           ...   \n",
      "145  146            6.7           3.0            5.2           2.3   \n",
      "146  147            6.3           2.5            5.0           1.9   \n",
      "147  148            6.5           3.0            5.2           2.0   \n",
      "148  149            6.2           3.4            5.4           2.3   \n",
      "149  150            5.9           3.0            5.1           1.8   \n",
      "\n",
      "            Species  Species_num  \n",
      "0       Iris-setosa            0  \n",
      "1       Iris-setosa            0  \n",
      "2       Iris-setosa            0  \n",
      "3       Iris-setosa            0  \n",
      "4       Iris-setosa            0  \n",
      "..              ...          ...  \n",
      "145  Iris-virginica            2  \n",
      "146  Iris-virginica            2  \n",
      "147  Iris-virginica            2  \n",
      "148  Iris-virginica            2  \n",
      "149  Iris-virginica            2  \n",
      "\n",
      "[100 rows x 7 columns]\n",
      "(100, 7)\n"
     ]
    }
   ],
   "source": [
    "# Trong tập dữ liệu có 3 loại hoa:\n",
    "# iris_setosa ,  iris_virginica và Iris-versicolor\n",
    "# Ta lấy 2 loại là iris_setosa và iris_virginica\n",
    "newdf = df[df.Species_num.isin([0, 2])]\n",
    "print(newdf)\n",
    "print(newdf.shape)\n"
   ],
   "metadata": {
    "collapsed": false,
    "pycharm": {
     "name": "#%%\n"
    }
   }
  },
  {
   "cell_type": "code",
   "execution_count": 6,
   "outputs": [
    {
     "name": "stdout",
     "output_type": "stream",
     "text": [
      "     SepalLengthCm  SepalWidthCm  PetalLengthCm  PetalWidthCm  Species_num\n",
      "0              5.1           3.5            1.4           0.2            0\n",
      "1              4.9           3.0            1.4           0.2            0\n",
      "2              4.7           3.2            1.3           0.2            0\n",
      "3              4.6           3.1            1.5           0.2            0\n",
      "4              5.0           3.6            1.4           0.2            0\n",
      "..             ...           ...            ...           ...          ...\n",
      "145            6.7           3.0            5.2           2.3            2\n",
      "146            6.3           2.5            5.0           1.9            2\n",
      "147            6.5           3.0            5.2           2.0            2\n",
      "148            6.2           3.4            5.4           2.3            2\n",
      "149            5.9           3.0            5.1           1.8            2\n",
      "\n",
      "[100 rows x 5 columns]\n"
     ]
    }
   ],
   "source": [
    "# Ta bỏ trường Species, chỉ lấy trường Species_num\n",
    "newdf2 = newdf[['SepalLengthCm', 'SepalWidthCm', 'PetalLengthCm', 'PetalWidthCm', 'Species_num']]\n",
    "print(newdf2)\n"
   ],
   "metadata": {
    "collapsed": false,
    "pycharm": {
     "name": "#%%\n"
    }
   }
  },
  {
   "cell_type": "code",
   "execution_count": 7,
   "outputs": [],
   "source": [
    "# Tạo x và y trong đó:\n",
    "# x là tập dữ liệu\n",
    "# y là tập nhãn\n",
    "\n",
    "x = newdf2[['SepalWidthCm', 'SepalLengthCm', 'PetalLengthCm', 'PetalWidthCm']]\n",
    "y = newdf2['Species_num']\n"
   ],
   "metadata": {
    "collapsed": false,
    "pycharm": {
     "name": "#%%\n"
    }
   }
  },
  {
   "cell_type": "code",
   "execution_count": 8,
   "outputs": [
    {
     "name": "stdout",
     "output_type": "stream",
     "text": [
      "    SepalWidthCm  SepalLengthCm  PetalLengthCm  PetalWidthCm\n",
      "0            3.5            5.1            1.4           0.2\n",
      "1            3.0            4.9            1.4           0.2\n",
      "2            3.2            4.7            1.3           0.2\n",
      "3            3.1            4.6            1.5           0.2\n",
      "4            3.6            5.0            1.4           0.2\n",
      "5            3.9            5.4            1.7           0.4\n",
      "6            3.4            4.6            1.4           0.3\n",
      "7            3.4            5.0            1.5           0.2\n",
      "8            2.9            4.4            1.4           0.2\n",
      "9            3.1            4.9            1.5           0.1\n",
      "10           3.7            5.4            1.5           0.2\n",
      "11           3.4            4.8            1.6           0.2\n",
      "12           3.0            4.8            1.4           0.1\n",
      "13           3.0            4.3            1.1           0.1\n",
      "14           4.0            5.8            1.2           0.2\n",
      "15           4.4            5.7            1.5           0.4\n",
      "16           3.9            5.4            1.3           0.4\n",
      "17           3.5            5.1            1.4           0.3\n",
      "18           3.8            5.7            1.7           0.3\n",
      "19           3.8            5.1            1.5           0.3\n",
      "20           3.4            5.4            1.7           0.2\n",
      "21           3.7            5.1            1.5           0.4\n",
      "22           3.6            4.6            1.0           0.2\n",
      "23           3.3            5.1            1.7           0.5\n",
      "24           3.4            4.8            1.9           0.2\n",
      "25           3.0            5.0            1.6           0.2\n",
      "26           3.4            5.0            1.6           0.4\n",
      "27           3.5            5.2            1.5           0.2\n",
      "28           3.4            5.2            1.4           0.2\n",
      "29           3.2            4.7            1.6           0.2\n",
      "30           3.1            4.8            1.6           0.2\n",
      "31           3.4            5.4            1.5           0.4\n",
      "32           4.1            5.2            1.5           0.1\n",
      "33           4.2            5.5            1.4           0.2\n",
      "34           3.1            4.9            1.5           0.1\n",
      "35           3.2            5.0            1.2           0.2\n",
      "36           3.5            5.5            1.3           0.2\n",
      "37           3.1            4.9            1.5           0.1\n",
      "38           3.0            4.4            1.3           0.2\n",
      "39           3.4            5.1            1.5           0.2\n",
      "40           3.5            5.0            1.3           0.3\n",
      "41           2.3            4.5            1.3           0.3\n",
      "42           3.2            4.4            1.3           0.2\n",
      "43           3.5            5.0            1.6           0.6\n",
      "44           3.8            5.1            1.9           0.4\n",
      "45           3.0            4.8            1.4           0.3\n",
      "46           3.8            5.1            1.6           0.2\n",
      "47           3.2            4.6            1.4           0.2\n",
      "48           3.7            5.3            1.5           0.2\n",
      "49           3.3            5.0            1.4           0.2\n"
     ]
    },
    {
     "data": {
      "text/plain": "<Figure size 432x288 with 1 Axes>",
      "image/png": "[encoded data removed]"
     },
     "metadata": {
      "needs_background": "light"
     },
     "output_type": "display_data"
    }
   ],
   "source": [
    "# Minh họa dữ liệu lên biểu đồ\n",
    "\n",
    "x0 = x[y == 0]\n",
    "x1 = x[y == 2]\n",
    "print(x0)\n",
    "plt.plot(x0['SepalLengthCm'], x0['SepalWidthCm'], 'b^', markersize=4, alpha=.8)\n",
    "plt.plot(x1['SepalLengthCm'], x1['SepalWidthCm'], 'go', markersize=4, alpha=.8)\n",
    "\n",
    "plt.xlabel('Sepal length')\n",
    "plt.ylabel('Sepal width')\n",
    "plt.title('Nhãn lớp 0 và lớp 1')\n",
    "plt.plot()\n",
    "plt.show()"
   ],
   "metadata": {
    "collapsed": false,
    "pycharm": {
     "name": "#%%\n"
    }
   }
  },
  {
   "cell_type": "code",
   "execution_count": 9,
   "outputs": [],
   "source": [
    "# Chuẩn bị dữ liệu cho phân lớp nhị phân\n",
    "# x_train là dữ liệu train, y_train là nhãn của x_train\n",
    "# x_test là dữ liệu test, y_test là nhãn của x_test\n",
    "# test_size là phần chia dành cho dữ liệu test, với 0.2= 1/5 tức 1/5 data sẽ sử dụng cho test\n",
    "x_train, x_test, y_train, y_test = train_test_split(x, y, test_size=0.2)"
   ],
   "metadata": {
    "collapsed": false,
    "pycharm": {
     "name": "#%%\n"
    }
   }
  },
  {
   "cell_type": "code",
   "execution_count": 10,
   "outputs": [
    {
     "name": "stdout",
     "output_type": "stream",
     "text": [
      "[0 2 0 0 0 2 0 2 0 2 2 0 2 2 0 2 0 0 2 0]\n"
     ]
    }
   ],
   "source": [
    "# Sử dụng LogisticRegression để phân lớp nhị phân\n",
    "log_model = LogisticRegression(max_iter=1000).fit(x_train, y_train)\n",
    "y_pred = log_model.predict(x_test)\n",
    "# Dự đoán của model\n",
    "print(y_pred)"
   ],
   "metadata": {
    "collapsed": false,
    "pycharm": {
     "name": "#%%\n"
    }
   }
  },
  {
   "cell_type": "code",
   "execution_count": 11,
   "outputs": [
    {
     "name": "stdout",
     "output_type": "stream",
     "text": [
      "Accuracy Score của LogisticRegression: 1.0\n"
     ]
    }
   ],
   "source": [
    "# KT1b\n",
    "# Đánh giá độ chính xác\n",
    "print(\"Accuracy Score của LogisticRegression:\", accuracy_score(y_test, y_pred))"
   ],
   "metadata": {
    "collapsed": false,
    "pycharm": {
     "name": "#%%\n"
    }
   }
  },
  {
   "cell_type": "code",
   "execution_count": 12,
   "outputs": [
    {
     "name": "stdout",
     "output_type": "stream",
     "text": [
      "[0 2 0 0 0 2 0 2 0 2 2 0 2 2 0 2 0 0 2 0]\n",
      "Accuracy Score của AdaBoostClassifier: 1.0\n"
     ]
    }
   ],
   "source": [
    "#KT1c Sử dụng thuật toán AdaBoost\n",
    "clf = AdaBoostClassifier(n_estimators=100, random_state=0)\n",
    "clf.fit(x_train, y_train)\n",
    "y_pred = clf.predict(x_test)\n",
    "print(y_pred)\n",
    "print(\"Accuracy Score của AdaBoostClassifier:\", accuracy_score(y_test, y_pred))"
   ],
   "metadata": {
    "collapsed": false,
    "pycharm": {
     "name": "#%%\n"
    }
   }
  },
  {
   "cell_type": "code",
   "execution_count": 13,
   "outputs": [
    {
     "name": "stdout",
     "output_type": "stream",
     "text": [
      "     SepalLengthCm  SepalWidthCm  PetalLengthCm  PetalWidthCm  Species_num\n",
      "0              5.1           3.5            1.4           0.2            0\n",
      "1              4.9           3.0            1.4           0.2            0\n",
      "2              4.7           3.2            1.3           0.2            0\n",
      "3              4.6           3.1            1.5           0.2            0\n",
      "4              5.0           3.6            1.4           0.2            0\n",
      "..             ...           ...            ...           ...          ...\n",
      "145            6.7           3.0            5.2           2.3            2\n",
      "146            6.3           2.5            5.0           1.9            2\n",
      "147            6.5           3.0            5.2           2.0            2\n",
      "148            6.2           3.4            5.4           2.3            2\n",
      "149            5.9           3.0            5.1           1.8            2\n",
      "\n",
      "[150 rows x 5 columns]\n",
      "114    2\n",
      "24     0\n",
      "120    2\n",
      "45     0\n",
      "52     1\n",
      "39     0\n",
      "80     1\n",
      "87     1\n",
      "112    2\n",
      "129    2\n",
      "51     1\n",
      "53     1\n",
      "16     0\n",
      "34     0\n",
      "84     1\n",
      "30     0\n",
      "82     1\n",
      "76     1\n",
      "50     1\n",
      "115    2\n",
      "21     0\n",
      "55     1\n",
      "108    2\n",
      "9      0\n",
      "101    2\n",
      "46     0\n",
      "113    2\n",
      "137    2\n",
      "109    2\n",
      "143    2\n",
      "Name: Species_num, dtype: int32\n"
     ]
    }
   ],
   "source": [
    "# KT1d. Xây dựng 1 mô hình học máy phân lớp nhiều nhãn\n",
    "# SVM tuyến tính để phân biệt tự động\n",
    "# 3 loài hoa \"iris_setosa\", \"iris_versicolor\" và \"iris_virginica\"\n",
    "# dựa trên 4 thuộc tính SepalLength, SepalWidth,PetalLength,PetalWidth.\n",
    "svm_prepare_data = df[['SepalLengthCm', 'SepalWidthCm', 'PetalLengthCm', 'PetalWidthCm', 'Species_num']]\n",
    "print(svm_prepare_data)\n",
    "\n",
    "svm_x = svm_prepare_data[['SepalWidthCm', 'SepalLengthCm', 'PetalLengthCm', 'PetalWidthCm']]\n",
    "svm_y = svm_prepare_data['Species_num']\n",
    "\n",
    "svm_x_train, svm_x_test, svm_y_train, svm_y_test \\\n",
    "    = train_test_split(svm_x, svm_y, test_size=0.2)\n",
    "print(svm_y_test)"
   ],
   "metadata": {
    "collapsed": false,
    "pycharm": {
     "name": "#%%\n"
    }
   }
  },
  {
   "cell_type": "code",
   "execution_count": 14,
   "outputs": [
    {
     "data": {
      "text/plain": "SVC(C=1, kernel='linear')"
     },
     "execution_count": 14,
     "metadata": {},
     "output_type": "execute_result"
    }
   ],
   "source": [
    "svm_clf = svm.SVC(kernel='linear', C=1)\n",
    "svm_clf.fit(svm_x_train, svm_y_train)"
   ],
   "metadata": {
    "collapsed": false,
    "pycharm": {
     "name": "#%%\n"
    }
   }
  },
  {
   "cell_type": "code",
   "execution_count": 15,
   "outputs": [
    {
     "name": "stdout",
     "output_type": "stream",
     "text": [
      "[2 0 2 0 1 0 1 1 2 2 1 1 0 0 1 0 1 1 1 2 0 1 2 0 2 0 2 2 2 2]\n",
      "114    2\n",
      "24     0\n",
      "120    2\n",
      "45     0\n",
      "52     1\n",
      "39     0\n",
      "80     1\n",
      "87     1\n",
      "112    2\n",
      "129    2\n",
      "51     1\n",
      "53     1\n",
      "16     0\n",
      "34     0\n",
      "84     1\n",
      "30     0\n",
      "82     1\n",
      "76     1\n",
      "50     1\n",
      "115    2\n",
      "21     0\n",
      "55     1\n",
      "108    2\n",
      "9      0\n",
      "101    2\n",
      "46     0\n",
      "113    2\n",
      "137    2\n",
      "109    2\n",
      "143    2\n",
      "Name: Species_num, dtype: int32\n",
      "Accuracy Score của SVM: 1.0\n"
     ]
    }
   ],
   "source": [
    "svm_y_pred = svm_clf.predict(svm_x_test)\n",
    "print(svm_y_pred)\n",
    "print(svm_y_test)\n",
    "print(\"Accuracy Score của SVM:\", accuracy_score(svm_y_test, svm_y_pred))\n"
   ],
   "metadata": {
    "collapsed": false,
    "pycharm": {
     "name": "#%%\n"
    }
   }
  }
 ],
 "metadata": {
  "kernelspec": {
   "display_name": "Python 3",
   "language": "python",
   "name": "python3"
  },
  "language_info": {
   "codemirror_mode": {
    "name": "ipython",
    "version": 2
   },
   "file_extension": ".py",
   "mimetype": "text/x-python",
   "name": "python",
   "nbconvert_exporter": "python",
   "pygments_lexer": "ipython2",
   "version": "2.7.6"
  }
 },
 "nbformat": 4,
 "nbformat_minor": 0
}