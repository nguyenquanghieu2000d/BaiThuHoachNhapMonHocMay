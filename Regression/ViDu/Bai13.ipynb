{
 "cells": [
  {
   "cell_type": "code",
   "execution_count": 28,
   "metadata": {
    "collapsed": true
   },
   "outputs": [],
   "source": [
    "import numpy as np\n",
    "import pandas as pd\n",
    "import matplotlib.pyplot as plt"
   ]
  },
  {
   "cell_type": "code",
   "execution_count": 29,
   "outputs": [
    {
     "name": "stdout",
     "output_type": "stream",
     "text": [
      "(5000, 7)\n",
      "   Avg. Area Income  Avg. Area House Age  Avg. Area Number of Rooms  \\\n",
      "0      79545.458574             5.682861                   7.009188   \n",
      "1      79248.642455             6.002900                   6.730821   \n",
      "2      61287.067179             5.865890                   8.512727   \n",
      "3      63345.240046             7.188236                   5.586729   \n",
      "4      59982.197226             5.040555                   7.839388   \n",
      "5      80175.754159             4.988408                   6.104512   \n",
      "6      64698.463428             6.025336                   8.147760   \n",
      "7      78394.339278             6.989780                   6.620478   \n",
      "8      59927.660813             5.362126                   6.393121   \n",
      "9      81885.927184             4.423672                   8.167688   \n",
      "\n",
      "   Avg. Area Number of Bedrooms  Area Population         Price  \\\n",
      "0                          4.09     23086.800503  1.059034e+06   \n",
      "1                          3.09     40173.072174  1.505891e+06   \n",
      "2                          5.13     36882.159400  1.058988e+06   \n",
      "3                          3.26     34310.242831  1.260617e+06   \n",
      "4                          4.23     26354.109472  6.309435e+05   \n",
      "5                          4.04     26748.428425  1.068138e+06   \n",
      "6                          3.41     60828.249085  1.502056e+06   \n",
      "7                          2.42     36516.358972  1.573937e+06   \n",
      "8                          2.30     29387.396003  7.988695e+05   \n",
      "9                          6.10     40149.965749  1.545155e+06   \n",
      "\n",
      "                                             Address  \n",
      "0  208 Michael Ferry Apt. 674\\nLaurabury, NE 3701...  \n",
      "1  188 Johnson Views Suite 079\\nLake Kathleen, CA...  \n",
      "2  9127 Elizabeth Stravenue\\nDanieltown, WI 06482...  \n",
      "3                          USS Barnett\\nFPO AP 44820  \n",
      "4                         USNS Raymond\\nFPO AE 09386  \n",
      "5  06039 Jennifer Islands Apt. 443\\nTracyport, KS...  \n",
      "6  4759 Daniel Shoals Suite 442\\nNguyenburgh, CO ...  \n",
      "7     972 Joyce Viaduct\\nLake William, TN 17778-6483  \n",
      "8                          USS Gilbert\\nFPO AA 20957  \n",
      "9                   Unit 9446 Box 0958\\nDPO AE 97025  \n"
     ]
    }
   ],
   "source": [
    "#13a\n",
    "df_house = pd.read_csv(\"USA_Housing.csv\")\n",
    "\n",
    "#df_house = df_house.sample(frac=1)\n",
    "print (df_house.shape)\n",
    "print (df_house.head(10))"
   ],
   "metadata": {
    "collapsed": false,
    "pycharm": {
     "name": "#%%\n"
    }
   }
  },
  {
   "cell_type": "code",
   "execution_count": 30,
   "outputs": [
    {
     "name": "stdout",
     "output_type": "stream",
     "text": [
      "   Avg. Area Income  Avg. Area House Age  Avg. Area Number of Rooms  \\\n",
      "0      79545.458574             5.682861                   7.009188   \n",
      "1      79248.642455             6.002900                   6.730821   \n",
      "2      61287.067179             5.865890                   8.512727   \n",
      "3      63345.240046             7.188236                   5.586729   \n",
      "4      59982.197226             5.040555                   7.839388   \n",
      "5      80175.754159             4.988408                   6.104512   \n",
      "6      64698.463428             6.025336                   8.147760   \n",
      "7      78394.339278             6.989780                   6.620478   \n",
      "8      59927.660813             5.362126                   6.393121   \n",
      "9      81885.927184             4.423672                   8.167688   \n",
      "\n",
      "   Avg. Area Number of Bedrooms  Area Population  \n",
      "0                          4.09     23086.800503  \n",
      "1                          3.09     40173.072174  \n",
      "2                          5.13     36882.159400  \n",
      "3                          3.26     34310.242831  \n",
      "4                          4.23     26354.109472  \n",
      "5                          4.04     26748.428425  \n",
      "6                          3.41     60828.249085  \n",
      "7                          2.42     36516.358972  \n",
      "8                          2.30     29387.396003  \n",
      "9                          6.10     40149.965749  \n"
     ]
    }
   ],
   "source": [
    "#13b\n",
    "list = [\"Avg. Area Income\", \"Avg. Area House Age\", \"Avg. Area Number of Rooms\", \"Avg. Area Number of Bedrooms\",\n",
    "\"Area Population\"]\n",
    "X = df_house[list]\n",
    "print (X.head(10))"
   ],
   "metadata": {
    "collapsed": false,
    "pycharm": {
     "name": "#%%\n"
    }
   }
  },
  {
   "cell_type": "code",
   "execution_count": 31,
   "outputs": [
    {
     "name": "stdout",
     "output_type": "stream",
     "text": [
      "0    1.059034e+06\n",
      "1    1.505891e+06\n",
      "2    1.058988e+06\n",
      "3    1.260617e+06\n",
      "4    6.309435e+05\n",
      "5    1.068138e+06\n",
      "6    1.502056e+06\n",
      "7    1.573937e+06\n",
      "8    7.988695e+05\n",
      "9    1.545155e+06\n",
      "Name: Price, dtype: float64\n"
     ]
    }
   ],
   "source": [
    "#13d\n",
    "y = df_house[\"Price\"]\n",
    "print (y.head(10))\n"
   ],
   "metadata": {
    "collapsed": false,
    "pycharm": {
     "name": "#%%\n"
    }
   }
  },
  {
   "cell_type": "code",
   "execution_count": 32,
   "outputs": [
    {
     "name": "stdout",
     "output_type": "stream",
     "text": [
      "[[-12355.34231389]\n",
      " [-10150.51349937]\n",
      " [  7330.64748761]\n",
      " [  4997.88860213]\n",
      " [  7450.53352855]\n",
      " [-12572.3977525 ]\n",
      " [  6617.2807828 ]\n",
      " [ -9710.30492448]\n",
      " [  7843.78349957]\n",
      " [-12773.8536404 ]]\n"
     ]
    }
   ],
   "source": [
    "from sklearn.decomposition import PCA\n",
    "X = PCA(1).fit_transform(X)\n",
    "print (X[:10])\n",
    "# print(X[:10])"
   ],
   "metadata": {
    "collapsed": false,
    "pycharm": {
     "name": "#%% 13e. Giảm X thành 1 chiều bằng kỹ thuật PCA. Hiện thị 10 dòng đầu tiên của X.\n"
    }
   }
  },
  {
   "cell_type": "code",
   "execution_count": 33,
   "outputs": [],
   "source": [
    "# plt.plot(x0, y0)\n",
    "# plt.plot(\n",
    "# plt.show()"
   ],
   "metadata": {
    "collapsed": false,
    "pycharm": {
     "name": "#%% 13g. Vẽ đồ thị với X, y\n"
    }
   }
  },
  {
   "cell_type": "code",
   "execution_count": 34,
   "outputs": [
    {
     "name": "stdout",
     "output_type": "stream",
     "text": [
      "Kích thước tập Train =  (2500, 1)\n",
      "Kích thước tập Test =  (2500, 1)\n"
     ]
    }
   ],
   "source": [
    "# Chia dữ liệu\n",
    "from sklearn.model_selection import train_test_split\n",
    "X_train, X_test, y_train, y_test = train_test_split(X, y, test_size=0.5, random_state=35)\n",
    "print ('Kích thước tập Train = ', X_train.shape)\n",
    "print ('Kích thước tập Test = ',X_test.shape)"
   ],
   "metadata": {
    "collapsed": false,
    "pycharm": {
     "name": "#%% 13h. Chia tập (X, y) thành (X_train, y_train) và (X_test, y_test) theo tỉ lệ 50-50.\n"
    }
   }
  },
  {
   "cell_type": "code",
   "execution_count": 35,
   "outputs": [],
   "source": [
    "# Tạo mô hình + huấn luyện\n",
    "from sklearn import linear_model\n",
    "regr = linear_model.LinearRegression().fit(X_train, y_train)\n"
   ],
   "metadata": {
    "collapsed": false,
    "pycharm": {
     "name": "#%% 13i. Tạo mô hình học model_lr: huấn luyện tập X_train với kỹ thuật học máy linear regression.\n"
    }
   }
  },
  {
   "cell_type": "code",
   "execution_count": 36,
   "outputs": [
    {
     "name": "stdout",
     "output_type": "stream",
     "text": [
      "Hệ số W: \n",
      " [-18.9732957]\n",
      "Hệ số Bias: \n",
      " 1232327.330845416\n"
     ]
    }
   ],
   "source": [
    "# In hệ số\n",
    "print('Hệ số W: \\n', regr.coef_)\n",
    "print('Hệ số Bias: \\n', regr.intercept_)\n",
    "\n",
    "# Dự đoán trên tập test\n",
    "y_pred = regr.predict(X_test)"
   ],
   "metadata": {
    "collapsed": false,
    "pycharm": {
     "name": "#%% 13k. Hiện thị các hệ số sau khi huấn luyện.\n"
    }
   }
  },
  {
   "cell_type": "code",
   "execution_count": 36,
   "outputs": [],
   "source": [],
   "metadata": {
    "collapsed": false,
    "pycharm": {
     "name": "#%% 13l. Hiện thị điểm dữ liệu X5 (dòng số 5 của X) và nhãn y5 tương ứng.\n"
    }
   }
  },
  {
   "cell_type": "code",
   "execution_count": 36,
   "outputs": [],
   "source": [],
   "metadata": {
    "collapsed": false,
    "pycharm": {
     "name": "#%% 13m. Dự đoán y_pred5 của điểm dữ liệu X5. So sánh kế quả với 10.\n"
    }
   }
  },
  {
   "cell_type": "code",
   "execution_count": 36,
   "outputs": [],
   "source": [],
   "metadata": {
    "collapsed": false,
    "pycharm": {
     "name": "#%% 13o. Tính sai số mean_squared_error cho điểm y_pred5.\n"
    }
   }
  },
  {
   "cell_type": "code",
   "execution_count": 36,
   "outputs": [],
   "source": [],
   "metadata": {
    "collapsed": false,
    "pycharm": {
     "name": "#%% 13p. Dự đoán kết quả của model_lr với tập X_test thu được y_pred_lf. Hiện thị 50 kết quả dự đoán đầu tiên.\n"
    }
   }
  },
  {
   "cell_type": "code",
   "execution_count": 36,
   "outputs": [],
   "source": [],
   "metadata": {
    "collapsed": false,
    "pycharm": {
     "name": "#%% 13q. Hiển thị mean_squared_error, r2_score của model_lr trên tập X_test.\n"
    }
   }
  },
  {
   "cell_type": "code",
   "execution_count": 36,
   "outputs": [],
   "source": [],
   "metadata": {
    "collapsed": false,
    "pycharm": {
     "name": "#%% 13r. Dựa vào các hệ số trong câu 9. Vẽ đồ thị hiện thị đường dự đoán.\n"
    }
   }
  },
  {
   "cell_type": "code",
   "execution_count": 37,
   "outputs": [
    {
     "name": "stdout",
     "output_type": "stream",
     "text": [
      "Coefficients: \n",
      " [-18.9732957]\n",
      "Bias: \n",
      " 1232327.330845416\n",
      "Mean squared error: 81323704115.44\n",
      "Coefficient of determination: 0.36\n"
     ]
    },
    {
     "data": {
      "text/plain": "<Figure size 432x288 with 1 Axes>",
      "image/png": "[encoded data removed]"
     },
     "metadata": {
      "needs_background": "light"
     },
     "output_type": "display_data"
    },
    {
     "data": {
      "text/plain": "<Figure size 432x288 with 1 Axes>",
      "image/png": "[encoded data removed]"
     },
     "metadata": {
      "needs_background": "light"
     },
     "output_type": "display_data"
    }
   ],
   "source": [
    "y_pred = regr.predict(X_test)\n",
    "\n",
    "from sklearn.metrics import mean_squared_error, r2_score\n",
    "# The coefficients\n",
    "print('Coefficients: \\n', regr.coef_)\n",
    "print('Bias: \\n', regr.intercept_)\n",
    "# The mean squared error\n",
    "print('Mean squared error: %.2f'\n",
    "% mean_squared_error(y_test, y_pred))\n",
    "# The coefficient of determination: 1 is perfect prediction\n",
    "print('Coefficient of determination: %.2f'\n",
    "% r2_score(y_test, y_pred))\n",
    "\n",
    "import matplotlib.pyplot as plt\n",
    "\n",
    "#vẽ để xem dữ liệu và đường dự báo ?\n",
    "import matplotlib.pyplot as plt\n",
    "\n",
    "y_dubao=regr.predict(X)\n",
    "X_chieu = PCA(1).fit_transform(X)\n",
    "plt.scatter(X_chieu, y_dubao, color='green')\n",
    "plt.title('Linear regression for House Price')\n",
    "plt.xlabel('X')\n",
    "plt.ylabel('y')\n",
    "plt.show()\n",
    "\n",
    "plt.plot([min(y_test), max(y_test)],[min(y_pred),max(y_pred)])\n",
    "plt.scatter(y_test, y_pred, color='red')\n",
    "plt.title('Compare')\n",
    "plt.xlabel('y_test')\n",
    "plt.ylabel('y_pred')\n",
    "plt.show()"
   ],
   "metadata": {
    "collapsed": false,
    "pycharm": {
     "name": "#%%\n"
    }
   }
  }
 ],
 "metadata": {
  "kernelspec": {
   "display_name": "Python 3",
   "language": "python",
   "name": "python3"
  },
  "language_info": {
   "codemirror_mode": {
    "name": "ipython",
    "version": 2
   },
   "file_extension": ".py",
   "mimetype": "text/x-python",
   "name": "python",
   "nbconvert_exporter": "python",
   "pygments_lexer": "ipython2",
   "version": "2.7.6"
  }
 },
 "nbformat": 4,
 "nbformat_minor": 0
}